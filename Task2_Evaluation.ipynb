{
  "cells": [
    {
      "cell_type": "code",
      "execution_count": 2,
      "id": "867ccaa7-9b28-4fd4-856b-01713703c5ad",
      "metadata": {
        "id": "867ccaa7-9b28-4fd4-856b-01713703c5ad"
      },
      "outputs": [],
      "source": [
        "import pandas as pd\n",
        "import numpy as np\n",
        "import matplotlib.pyplot as plt\n",
        "import seaborn as sns\n",
        "from sklearn.model_selection import train_test_split\n",
        "from sklearn.tree import DecisionTreeClassifier\n",
        "from sklearn.metrics import accuracy_score, precision_score, recall_score, f1_score"
      ]
    },
    {
      "cell_type": "code",
      "source": [
        "# Simulate some true labels and predicted labels for classification\n",
        "true_labels = np.array([1, 0, 1, 1, 0])\n",
        "predictions = np.array([1, 0, 0, 1, 1])"
      ],
      "metadata": {
        "id": "lk0KEMauECyU"
      },
      "id": "lk0KEMauECyU",
      "execution_count": 3,
      "outputs": []
    },
    {
      "cell_type": "code",
      "source": [
        "accuracy = accuracy_score(true_labels, predictions)\n",
        "precision = precision_score(true_labels, predictions)\n",
        "recall = recall_score(true_labels, predictions)\n",
        "f1 = f1_score(true_labels, predictions)"
      ],
      "metadata": {
        "id": "mEKXscmcEP_h"
      },
      "id": "mEKXscmcEP_h",
      "execution_count": 4,
      "outputs": []
    },
    {
      "cell_type": "code",
      "execution_count": null,
      "id": "3c2067bc-c301-4c95-b872-272a242f1a1f",
      "metadata": {
        "id": "3c2067bc-c301-4c95-b872-272a242f1a1f"
      },
      "outputs": [],
      "source": [
        "file_path = 'student_dropout.csv'\n",
        "data = pd.read_csv(file_path)"
      ]
    },
    {
      "cell_type": "code",
      "execution_count": null,
      "id": "158d73a6-92d2-4a1b-8c51-1f12919c987c",
      "metadata": {
        "id": "158d73a6-92d2-4a1b-8c51-1f12919c987c",
        "outputId": "10005bb6-b504-4ff3-dd64-db701ebcb513"
      },
      "outputs": [
        {
          "name": "stdout",
          "output_type": "stream",
          "text": [
            "<class 'pandas.core.frame.DataFrame'>\n",
            "RangeIndex: 4424 entries, 0 to 4423\n",
            "Data columns (total 37 columns):\n",
            " #   Column                                          Non-Null Count  Dtype  \n",
            "---  ------                                          --------------  -----  \n",
            " 0   Marital status                                  4424 non-null   int64  \n",
            " 1   Application mode                                4424 non-null   int64  \n",
            " 2   Application order                               4424 non-null   int64  \n",
            " 3   Course                                          4424 non-null   int64  \n",
            " 4   Daytime/evening attendance\t                     4424 non-null   int64  \n",
            " 5   Previous qualification                          4424 non-null   int64  \n",
            " 6   Previous qualification (grade)                  4424 non-null   float64\n",
            " 7   Nacionality                                     4424 non-null   int64  \n",
            " 8   Mother's qualification                          4424 non-null   int64  \n",
            " 9   Father's qualification                          4424 non-null   int64  \n",
            " 10  Mother's occupation                             4424 non-null   int64  \n",
            " 11  Father's occupation                             4424 non-null   int64  \n",
            " 12  Admission grade                                 4424 non-null   float64\n",
            " 13  Displaced                                       4424 non-null   int64  \n",
            " 14  Educational special needs                       4424 non-null   int64  \n",
            " 15  Debtor                                          4424 non-null   int64  \n",
            " 16  Tuition fees up to date                         4424 non-null   int64  \n",
            " 17  Gender                                          4424 non-null   int64  \n",
            " 18  Scholarship holder                              4424 non-null   int64  \n",
            " 19  Age at enrollment                               4424 non-null   int64  \n",
            " 20  International                                   4424 non-null   int64  \n",
            " 21  Curricular units 1st sem (credited)             4424 non-null   int64  \n",
            " 22  Curricular units 1st sem (enrolled)             4424 non-null   int64  \n",
            " 23  Curricular units 1st sem (evaluations)          4424 non-null   int64  \n",
            " 24  Curricular units 1st sem (approved)             4424 non-null   int64  \n",
            " 25  Curricular units 1st sem (grade)                4424 non-null   float64\n",
            " 26  Curricular units 1st sem (without evaluations)  4424 non-null   int64  \n",
            " 27  Curricular units 2nd sem (credited)             4424 non-null   int64  \n",
            " 28  Curricular units 2nd sem (enrolled)             4424 non-null   int64  \n",
            " 29  Curricular units 2nd sem (evaluations)          4424 non-null   int64  \n",
            " 30  Curricular units 2nd sem (approved)             4424 non-null   int64  \n",
            " 31  Curricular units 2nd sem (grade)                4424 non-null   float64\n",
            " 32  Curricular units 2nd sem (without evaluations)  4424 non-null   int64  \n",
            " 33  Unemployment rate                               4424 non-null   float64\n",
            " 34  Inflation rate                                  4424 non-null   float64\n",
            " 35  GDP                                             4424 non-null   float64\n",
            " 36  Target                                          4424 non-null   object \n",
            "dtypes: float64(7), int64(29), object(1)\n",
            "memory usage: 1.2+ MB\n"
          ]
        },
        {
          "data": {
            "text/plain": [
              "(   Marital status  Application mode  Application order  Course  \\\n",
              " 0               1                17                  5     171   \n",
              " 1               1                15                  1    9254   \n",
              " 2               1                 1                  5    9070   \n",
              " 3               1                17                  2    9773   \n",
              " 4               2                39                  1    8014   \n",
              " \n",
              "    Daytime/evening attendance\\t  Previous qualification  \\\n",
              " 0                             1                       1   \n",
              " 1                             1                       1   \n",
              " 2                             1                       1   \n",
              " 3                             1                       1   \n",
              " 4                             0                       1   \n",
              " \n",
              "    Previous qualification (grade)  Nacionality  Mother's qualification  \\\n",
              " 0                           122.0            1                      19   \n",
              " 1                           160.0            1                       1   \n",
              " 2                           122.0            1                      37   \n",
              " 3                           122.0            1                      38   \n",
              " 4                           100.0            1                      37   \n",
              " \n",
              "    Father's qualification  ...  Curricular units 2nd sem (credited)  \\\n",
              " 0                      12  ...                                    0   \n",
              " 1                       3  ...                                    0   \n",
              " 2                      37  ...                                    0   \n",
              " 3                      37  ...                                    0   \n",
              " 4                      38  ...                                    0   \n",
              " \n",
              "    Curricular units 2nd sem (enrolled)  \\\n",
              " 0                                    0   \n",
              " 1                                    6   \n",
              " 2                                    6   \n",
              " 3                                    6   \n",
              " 4                                    6   \n",
              " \n",
              "    Curricular units 2nd sem (evaluations)  \\\n",
              " 0                                       0   \n",
              " 1                                       6   \n",
              " 2                                       0   \n",
              " 3                                      10   \n",
              " 4                                       6   \n",
              " \n",
              "    Curricular units 2nd sem (approved)  Curricular units 2nd sem (grade)  \\\n",
              " 0                                    0                          0.000000   \n",
              " 1                                    6                         13.666667   \n",
              " 2                                    0                          0.000000   \n",
              " 3                                    5                         12.400000   \n",
              " 4                                    6                         13.000000   \n",
              " \n",
              "    Curricular units 2nd sem (without evaluations)  Unemployment rate  \\\n",
              " 0                                               0               10.8   \n",
              " 1                                               0               13.9   \n",
              " 2                                               0               10.8   \n",
              " 3                                               0                9.4   \n",
              " 4                                               0               13.9   \n",
              " \n",
              "    Inflation rate   GDP    Target  \n",
              " 0             1.4  1.74   Dropout  \n",
              " 1            -0.3  0.79  Graduate  \n",
              " 2             1.4  1.74   Dropout  \n",
              " 3            -0.8 -3.12  Graduate  \n",
              " 4            -0.3  0.79  Graduate  \n",
              " \n",
              " [5 rows x 37 columns],\n",
              " None,\n",
              "        Marital status  Application mode  Application order       Course  \\\n",
              " count     4424.000000       4424.000000        4424.000000  4424.000000   \n",
              " mean         1.178571         18.669078           1.727848  8856.642631   \n",
              " std          0.605747         17.484682           1.313793  2063.566416   \n",
              " min          1.000000          1.000000           0.000000    33.000000   \n",
              " 25%          1.000000          1.000000           1.000000  9085.000000   \n",
              " 50%          1.000000         17.000000           1.000000  9238.000000   \n",
              " 75%          1.000000         39.000000           2.000000  9556.000000   \n",
              " max          6.000000         57.000000           9.000000  9991.000000   \n",
              " \n",
              "        Daytime/evening attendance\\t  Previous qualification  \\\n",
              " count                   4424.000000             4424.000000   \n",
              " mean                       0.890823                4.577758   \n",
              " std                        0.311897               10.216592   \n",
              " min                        0.000000                1.000000   \n",
              " 25%                        1.000000                1.000000   \n",
              " 50%                        1.000000                1.000000   \n",
              " 75%                        1.000000                1.000000   \n",
              " max                        1.000000               43.000000   \n",
              " \n",
              "        Previous qualification (grade)  Nacionality  Mother's qualification  \\\n",
              " count                     4424.000000  4424.000000             4424.000000   \n",
              " mean                       132.613314     1.873192               19.561935   \n",
              " std                         13.188332     6.914514               15.603186   \n",
              " min                         95.000000     1.000000                1.000000   \n",
              " 25%                        125.000000     1.000000                2.000000   \n",
              " 50%                        133.100000     1.000000               19.000000   \n",
              " 75%                        140.000000     1.000000               37.000000   \n",
              " max                        190.000000   109.000000               44.000000   \n",
              " \n",
              "        Father's qualification  ...  \\\n",
              " count             4424.000000  ...   \n",
              " mean                22.275316  ...   \n",
              " std                 15.343108  ...   \n",
              " min                  1.000000  ...   \n",
              " 25%                  3.000000  ...   \n",
              " 50%                 19.000000  ...   \n",
              " 75%                 37.000000  ...   \n",
              " max                 44.000000  ...   \n",
              " \n",
              "        Curricular units 1st sem (without evaluations)  \\\n",
              " count                                     4424.000000   \n",
              " mean                                         0.137658   \n",
              " std                                          0.690880   \n",
              " min                                          0.000000   \n",
              " 25%                                          0.000000   \n",
              " 50%                                          0.000000   \n",
              " 75%                                          0.000000   \n",
              " max                                         12.000000   \n",
              " \n",
              "        Curricular units 2nd sem (credited)  \\\n",
              " count                          4424.000000   \n",
              " mean                              0.541817   \n",
              " std                               1.918546   \n",
              " min                               0.000000   \n",
              " 25%                               0.000000   \n",
              " 50%                               0.000000   \n",
              " 75%                               0.000000   \n",
              " max                              19.000000   \n",
              " \n",
              "        Curricular units 2nd sem (enrolled)  \\\n",
              " count                          4424.000000   \n",
              " mean                              6.232143   \n",
              " std                               2.195951   \n",
              " min                               0.000000   \n",
              " 25%                               5.000000   \n",
              " 50%                               6.000000   \n",
              " 75%                               7.000000   \n",
              " max                              23.000000   \n",
              " \n",
              "        Curricular units 2nd sem (evaluations)  \\\n",
              " count                             4424.000000   \n",
              " mean                                 8.063291   \n",
              " std                                  3.947951   \n",
              " min                                  0.000000   \n",
              " 25%                                  6.000000   \n",
              " 50%                                  8.000000   \n",
              " 75%                                 10.000000   \n",
              " max                                 33.000000   \n",
              " \n",
              "        Curricular units 2nd sem (approved)  Curricular units 2nd sem (grade)  \\\n",
              " count                          4424.000000                       4424.000000   \n",
              " mean                              4.435805                         10.230206   \n",
              " std                               3.014764                          5.210808   \n",
              " min                               0.000000                          0.000000   \n",
              " 25%                               2.000000                         10.750000   \n",
              " 50%                               5.000000                         12.200000   \n",
              " 75%                               6.000000                         13.333333   \n",
              " max                              20.000000                         18.571429   \n",
              " \n",
              "        Curricular units 2nd sem (without evaluations)  Unemployment rate  \\\n",
              " count                                     4424.000000        4424.000000   \n",
              " mean                                         0.150316          11.566139   \n",
              " std                                          0.753774           2.663850   \n",
              " min                                          0.000000           7.600000   \n",
              " 25%                                          0.000000           9.400000   \n",
              " 50%                                          0.000000          11.100000   \n",
              " 75%                                          0.000000          13.900000   \n",
              " max                                         12.000000          16.200000   \n",
              " \n",
              "        Inflation rate          GDP  \n",
              " count     4424.000000  4424.000000  \n",
              " mean         1.228029     0.001969  \n",
              " std          1.382711     2.269935  \n",
              " min         -0.800000    -4.060000  \n",
              " 25%          0.300000    -1.700000  \n",
              " 50%          1.400000     0.320000  \n",
              " 75%          2.600000     1.790000  \n",
              " max          3.700000     3.510000  \n",
              " \n",
              " [8 rows x 36 columns])"
            ]
          },
          "execution_count": 3,
          "metadata": {},
          "output_type": "execute_result"
        }
      ],
      "source": [
        "data_head = data.head()\n",
        "data_info = data.info()\n",
        "data_describe = data.describe()\n",
        "\n",
        "data_head, data_info, data_describe"
      ]
    },
    {
      "cell_type": "code",
      "execution_count": null,
      "id": "d5e5b99c-c494-438d-88cf-b97dddb4a3c2",
      "metadata": {
        "id": "d5e5b99c-c494-438d-88cf-b97dddb4a3c2",
        "outputId": "0ba551e4-3bc1-4a0b-ad9b-3f2826844712"
      },
      "outputs": [
        {
          "data": {
            "text/plain": [
              "({'Marital status': array([1, 2, 4, 3, 5, 6], dtype=int64),\n",
              "  'Application mode': array([17, 15,  1, 39, 18, 53, 44, 51, 43,  7, 42, 16,  5,  2, 10, 57, 26,\n",
              "         27], dtype=int64),\n",
              "  'Nacionality': array([  1,  62,   6,  41,  26, 103,  13,  25,  21, 101,  11,  22,  32,\n",
              "         100,  24, 109,   2, 108, 105,  14,  17], dtype=int64)},\n",
              " count    4424.000000\n",
              " mean       23.265145\n",
              " std         7.587816\n",
              " min        17.000000\n",
              " 25%        19.000000\n",
              " 50%        20.000000\n",
              " 75%        25.000000\n",
              " max        70.000000\n",
              " Name: Age at enrollment, dtype: float64)"
            ]
          },
          "execution_count": 4,
          "metadata": {},
          "output_type": "execute_result"
        }
      ],
      "source": [
        "categorical_checks = {column: data[column].unique() for column in ['Marital status', 'Application mode', 'Nacionality']}\n",
        "outlier_check = data['Age at enrollment'].describe()\n",
        "\n",
        "categorical_checks, outlier_check"
      ]
    },
    {
      "cell_type": "code",
      "execution_count": 5,
      "id": "8d6afdf7-8225-44b0-aaaf-5a6cb68eb7b7",
      "metadata": {
        "colab": {
          "base_uri": "https://localhost:8080/"
        },
        "id": "8d6afdf7-8225-44b0-aaaf-5a6cb68eb7b7",
        "outputId": "cd09e2e9-df66-4e29-e5a0-9d310e9a31d6"
      },
      "outputs": [
        {
          "output_type": "stream",
          "name": "stdout",
          "text": [
            "Accuracy: 0.6\n",
            "Precision: 0.6666666666666666\n",
            "Recall: 0.6666666666666666\n",
            "F1 Score: 0.6666666666666666\n"
          ]
        }
      ],
      "source": [
        "print(\"Accuracy:\", accuracy)\n",
        "print(\"Precision:\", precision)\n",
        "print(\"Recall:\", recall)\n",
        "print(\"F1 Score:\", f1)"
      ]
    }
  ],
  "metadata": {
    "kernelspec": {
      "display_name": "Python 3 (ipykernel)",
      "language": "python",
      "name": "python3"
    },
    "language_info": {
      "codemirror_mode": {
        "name": "ipython",
        "version": 3
      },
      "file_extension": ".py",
      "mimetype": "text/x-python",
      "name": "python",
      "nbconvert_exporter": "python",
      "pygments_lexer": "ipython3",
      "version": "3.12.4"
    },
    "colab": {
      "provenance": []
    }
  },
  "nbformat": 4,
  "nbformat_minor": 5
}